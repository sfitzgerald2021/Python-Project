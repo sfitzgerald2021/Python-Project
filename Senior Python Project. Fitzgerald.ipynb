{
 "cells": [
  {
   "cell_type": "code",
   "execution_count": 17,
   "id": "5d510465-e52f-4d4f-93a0-94e6cb697d85",
   "metadata": {},
   "outputs": [],
   "source": [
    "import networkx as nx\n",
    "import matplotlib.pyplot as plt\n",
    "import random\n",
    "\n",
    "def normalize_edge(edge):\n",
    "    return tuple(sorted(edge)) if isinstance(edge, tuple) else edge"
   ]
  },
  {
   "cell_type": "code",
   "execution_count": 19,
   "id": "0d4a394b-c156-4c56-9cd1-aeb035847e30",
   "metadata": {},
   "outputs": [],
   "source": [
    "def create_path_graph(n):\n",
    "    G = nx.path_graph(n)\n",
    "    mapping = {i: i + 1 for i in G.nodes()}\n",
    "    G = nx.relabel_nodes(G, mapping)\n",
    "    return G\n",
    "\n",
    "def create_cycle_graph(n):\n",
    "    G = nx.cycle_graph(n)\n",
    "    mapping = {i: i + 1 for i in G.nodes()}\n",
    "    G = nx.relabel_nodes(G, mapping)\n",
    "    return G\n"
   ]
  },
  {
   "cell_type": "code",
   "execution_count": 21,
   "id": "656a3b50-f4df-46f5-86b6-fe14077e824f",
   "metadata": {},
   "outputs": [],
   "source": [
    "def is_illegal_move(graph, move, chosen_color, coloring):\n",
    "    move = normalize_edge(move)\n",
    "    if isinstance(move, int):\n",
    "        if move in coloring:\n",
    "            return True\n",
    "        for neighbor in graph.neighbors(move):\n",
    "            if coloring.get(neighbor) == chosen_color:\n",
    "                return True\n",
    "        for edge in graph.edges(move):\n",
    "            if coloring.get(normalize_edge(edge)) == chosen_color:\n",
    "                return True\n",
    "    else:\n",
    "        v1, v2 = move\n",
    "        if move in coloring:\n",
    "            return True\n",
    "        if coloring.get(v1) == chosen_color or coloring.get(v2) == chosen_color:\n",
    "            return True\n",
    "        for edge in list(graph.edges(v1)) + list(graph.edges(v2)):\n",
    "            edge = normalize_edge(edge)\n",
    "            if edge != move and coloring.get(edge) == chosen_color:\n",
    "                return True\n",
    "    return False\n",
    "\n",
    "def valid_colors(available_colors, graph, node_or_edge, coloring):\n",
    "    used_colors = set()\n",
    "    if isinstance(node_or_edge, int):\n",
    "        for neighbor in graph.neighbors(node_or_edge):\n",
    "            if neighbor in coloring:\n",
    "                used_colors.add(coloring[neighbor])\n",
    "        for edge in graph.edges(node_or_edge):\n",
    "            edge = normalize_edge(edge)\n",
    "            if edge in coloring:\n",
    "                used_colors.add(coloring[edge])\n",
    "    else:\n",
    "        node_or_edge = normalize_edge(node_or_edge)\n",
    "        v1, v2 = node_or_edge\n",
    "        if v1 in coloring:\n",
    "            used_colors.add(coloring[v1])\n",
    "        if v2 in coloring:\n",
    "            used_colors.add(coloring[v2])\n",
    "        for edge in list(graph.edges(v1)) + list(graph.edges(v2)):\n",
    "            edge = normalize_edge(edge)\n",
    "            if edge in coloring:\n",
    "                used_colors.add(coloring[edge])\n",
    "    return [color for color in available_colors if color not in used_colors]\n"
   ]
  },
  {
   "cell_type": "code",
   "execution_count": 23,
   "id": "c5625b53-6d7e-4948-a907-a998db44c2aa",
   "metadata": {},
   "outputs": [],
   "source": [
    "%matplotlib inline\n",
    "\n",
    "def draw_graph(graph, coloring):\n",
    "    plt.figure(figsize=(8, 4))\n",
    "    pos = nx.shell_layout(graph)\n",
    "\n",
    "    color_mapping = {\n",
    "        1: \"yellow\", 2: \"red\", 3: \"blue\", 4: \"green\", 5: \"purple\",\n",
    "        6: \"orange\", 7: \"cyan\", 8: \"magenta\", 9: \"brown\"\n",
    "    }\n",
    "\n",
    "    node_colors = [color_mapping.get(coloring.get(node, 0), \"gray\") for node in graph.nodes]\n",
    "    edge_colors = [color_mapping.get(coloring.get(normalize_edge(edge), 0), \"black\") for edge in graph.edges]\n",
    "\n",
    "    nx.draw(graph, pos, with_labels=True, labels={node: node for node in graph.nodes},\n",
    "            node_color=node_colors, edge_color=edge_colors, node_size=500, edgecolors=\"black\")\n",
    "    plt.show()\n"
   ]
  },
  {
   "cell_type": "code",
   "execution_count": 25,
   "id": "21dc8157-c74a-4c6c-a3c9-bcb47cb428bc",
   "metadata": {},
   "outputs": [],
   "source": [
    "def player_A_turn(graph, colors, coloring):\n",
    "    print(\"Current coloring:\", coloring)\n",
    "    print(\"Available moves:\", [move for move in list(graph.nodes) + list(graph.edges) if normalize_edge(move) not in coloring])\n",
    "    \n",
    "    try:\n",
    "        move = input(\"Enter vertex or edge to color (e.g., '1' or '(1,2)'): \").strip()\n",
    "        if \",\" in move:\n",
    "            move = tuple(map(int, move.strip(\"() \").split(\",\")))\n",
    "        else:\n",
    "            move = int(move)\n",
    "\n",
    "        move = normalize_edge(move)\n",
    "\n",
    "        if move in coloring:\n",
    "            print(\"Invalid move! Already colored.\")\n",
    "            return player_A_turn(graph, colors, coloring)\n",
    "\n",
    "        valid = valid_colors(colors, graph, move, coloring)\n",
    "        if not valid:\n",
    "            print(\"No valid colors left. Player B wins!\")\n",
    "            raise SystemExit\n",
    "\n",
    "        chosen_color = int(input(f\"Choose a color from {valid}: \"))\n",
    "        if is_illegal_move(graph, move, chosen_color, coloring):\n",
    "            print(\"Illegal move! Player B wins!\")\n",
    "            raise SystemExit\n",
    "\n",
    "        coloring[move] = chosen_color\n",
    "        return True\n",
    "    except ValueError:\n",
    "        print(\"Invalid input.\")\n",
    "        return player_A_turn(graph, colors, coloring)\n",
    "\n",
    "def player_B_turn(graph, colors, coloring):\n",
    "    available_moves = [move for move in list(graph.nodes) + list(graph.edges) if normalize_edge(move) not in coloring]\n",
    "    random.shuffle(available_moves)\n",
    "    for move in available_moves:\n",
    "        move = normalize_edge(move)\n",
    "        valid = valid_colors(colors, graph, move, coloring)\n",
    "        valid = [c for c in valid if not is_illegal_move(graph, move, c, coloring)]\n",
    "        if valid:\n",
    "            chosen_color = random.choice(valid)\n",
    "            coloring[move] = chosen_color\n",
    "            return f\"Player B colored {move} with {chosen_color}\"\n",
    "            #draw_graph(graph, coloring)\n",
    "    print(\"Player B cannot move. Player A wins!\")\n",
    "    return \"Player B cannot move\"\n"
   ]
  },
  {
   "cell_type": "code",
   "execution_count": 27,
   "id": "eb05a048-1142-4137-9968-85f3332c97a7",
   "metadata": {},
   "outputs": [],
   "source": [
    "def play_game(n, k, graph_type):\n",
    "    if graph_type == \"path\":\n",
    "        graph = create_path_graph(n)\n",
    "    elif graph_type == \"cycle\":\n",
    "        graph = create_cycle_graph(n)\n",
    "    else:\n",
    "        print(\"Invalid graph type. Defaulting to path.\")\n",
    "        graph = create_path_graph(n)\n",
    "\n",
    "    colors = list(range(1, k + 1))\n",
    "    coloring = {}\n",
    "\n",
    "    print(f\"Starting Total Coloring Game on {graph_type.capitalize()} Graph\")\n",
    "    print(\"Vertices:\", list(graph.nodes))\n",
    "    print(\"Edges:\", list(graph.edges))\n",
    "    draw_graph(graph, {})\n",
    "\n",
    "    while len(coloring) < len(graph.nodes) + len(graph.edges):\n",
    "        if not player_A_turn(graph, colors, coloring):\n",
    "            print(\"Player B wins!\")\n",
    "            return\n",
    "        if len(coloring) == len(graph.nodes) + len(graph.edges):\n",
    "            draw_graph(graph, coloring)\n",
    "            print(\"Player A wins!\")\n",
    "            return\n",
    "\n",
    "        b_message = player_B_turn(graph, colors, coloring)\n",
    "        draw_graph(graph, coloring)\n",
    "        print(b_message)\n",
    "\n",
    "        if len(coloring) == len(graph.nodes) + len(graph.edges):\n",
    "            print(\"Player A wins!\")\n",
    "            return\n",
    "        if \"cannot move\" in b_message:\n",
    "            print(\"Player A wins!\")\n",
    "            return\n",
    "\n",
    "    print(\"Game Over. Final coloring:\", coloring)\n"
   ]
  },
  {
   "cell_type": "code",
   "execution_count": 31,
   "id": "656ed8b3-9fde-4d21-8305-f6a02e89eb7e",
   "metadata": {
    "editable": true,
    "slideshow": {
     "slide_type": ""
    },
    "tags": []
   },
   "outputs": [
    {
     "name": "stdin",
     "output_type": "stream",
     "text": [
      "Choose graph type (path/cycle):  cycle\n",
      "Enter number of vertices:  3\n",
      "Enter number of colors:  5\n"
     ]
    },
    {
     "name": "stdout",
     "output_type": "stream",
     "text": [
      "Starting Total Coloring Game on Cycle Graph\n",
      "Vertices: [1, 2, 3]\n",
      "Edges: [(1, 2), (1, 3), (2, 3)]\n"
     ]
    },
    {
     "data": {
      "image/png": "[encoded data removed]",
      "text/plain": [
       "<Figure size 800x400 with 1 Axes>"
      ]
     },
     "metadata": {},
     "output_type": "display_data"
    },
    {
     "name": "stdout",
     "output_type": "stream",
     "text": [
      "Current coloring: {}\n",
      "Available moves: [1, 2, 3, (1, 2), (1, 3), (2, 3)]\n"
     ]
    },
    {
     "name": "stdin",
     "output_type": "stream",
     "text": [
      "Enter vertex or edge to color (e.g., '1' or '(1,2)'):  1\n",
      "Choose a color from [1, 2, 3, 4, 5]:  1\n"
     ]
    },
    {
     "data": {
      "image/png": "[encoded data removed]",
      "text/plain": [
       "<Figure size 800x400 with 1 Axes>"
      ]
     },
     "metadata": {},
     "output_type": "display_data"
    },
    {
     "name": "stdout",
     "output_type": "stream",
     "text": [
      "Player B colored 2 with 2\n",
      "Current coloring: {1: 1, 2: 2}\n",
      "Available moves: [3, (1, 2), (1, 3), (2, 3)]\n"
     ]
    },
    {
     "name": "stdin",
     "output_type": "stream",
     "text": [
      "Enter vertex or edge to color (e.g., '1' or '(1,2)'):  (2,3)\n",
      "Choose a color from [1, 3, 4, 5]:  1\n"
     ]
    },
    {
     "data": {
      "image/png": "[encoded data removed]",
      "text/plain": [
       "<Figure size 800x400 with 1 Axes>"
      ]
     },
     "metadata": {},
     "output_type": "display_data"
    },
    {
     "name": "stdout",
     "output_type": "stream",
     "text": [
      "Player B colored (1, 3) with 2\n",
      "Current coloring: {1: 1, 2: 2, (2, 3): 1, (1, 3): 2}\n",
      "Available moves: [3, (1, 2)]\n"
     ]
    },
    {
     "name": "stdin",
     "output_type": "stream",
     "text": [
      "Enter vertex or edge to color (e.g., '1' or '(1,2)'):  3\n",
      "Choose a color from [3, 4, 5]:  3\n"
     ]
    },
    {
     "data": {
      "image/png": "[encoded data removed]",
      "text/plain": [
       "<Figure size 800x400 with 1 Axes>"
      ]
     },
     "metadata": {},
     "output_type": "display_data"
    },
    {
     "name": "stdout",
     "output_type": "stream",
     "text": [
      "Player B colored (1, 2) with 3\n",
      "Player A wins!\n"
     ]
    }
   ],
   "source": [
    "graph_type = input(\"Choose graph type (path/cycle): \").strip().lower()\n",
    "n = int(input(\"Enter number of vertices: \"))\n",
    "k = int(input(\"Enter number of colors: \"))\n",
    "play_game(n, k, graph_type)\n"
   ]
  },
  {
   "cell_type": "code",
   "execution_count": null,
   "id": "9b40360f-c70f-438d-9e93-f16782c29b17",
   "metadata": {},
   "outputs": [],
   "source": []
  }
 ],
 "metadata": {
  "kernelspec": {
   "display_name": "Python [conda env:base] *",
   "language": "python",
   "name": "conda-base-py"
  },
  "language_info": {
   "codemirror_mode": {
    "name": "ipython",
    "version": 3
   },
   "file_extension": ".py",
   "mimetype": "text/x-python",
   "name": "python",
   "nbconvert_exporter": "python",
   "pygments_lexer": "ipython3",
   "version": "3.12.7"
  }
 },
 "nbformat": 4,
 "nbformat_minor": 5
}
